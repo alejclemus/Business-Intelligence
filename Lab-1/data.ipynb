{
 "cells": [
  {
   "cell_type": "code",
   "execution_count": 1,
   "id": "coral-status",
   "metadata": {},
   "outputs": [
    {
     "name": "stdout",
     "output_type": "stream",
     "text": [
      "Requirement already satisfied: pyarrow in /opt/conda/lib/python3.8/site-packages (3.0.0)\n",
      "Requirement already satisfied: numpy>=1.16.6 in /opt/conda/lib/python3.8/site-packages (from pyarrow) (1.19.5)\n",
      "Note: you may need to restart the kernel to use updated packages.\n"
     ]
    }
   ],
   "source": [
    "pip install pyarrow"
   ]
  },
  {
   "cell_type": "code",
   "execution_count": 2,
   "id": "placed-theory",
   "metadata": {},
   "outputs": [],
   "source": [
    "import pandas as pd"
   ]
  },
  {
   "cell_type": "markdown",
   "id": "otherwise-replacement",
   "metadata": {},
   "source": [
    "## Extract"
   ]
  },
  {
   "cell_type": "code",
   "execution_count": 3,
   "id": "imposed-divide",
   "metadata": {},
   "outputs": [
    {
     "data": {
      "text/html": [
       "<div>\n",
       "<style scoped>\n",
       "    .dataframe tbody tr th:only-of-type {\n",
       "        vertical-align: middle;\n",
       "    }\n",
       "\n",
       "    .dataframe tbody tr th {\n",
       "        vertical-align: top;\n",
       "    }\n",
       "\n",
       "    .dataframe thead th {\n",
       "        text-align: right;\n",
       "    }\n",
       "</style>\n",
       "<table border=\"1\" class=\"dataframe\">\n",
       "  <thead>\n",
       "    <tr style=\"text-align: right;\">\n",
       "      <th></th>\n",
       "      <th>vendor_id</th>\n",
       "      <th>pickup_at</th>\n",
       "      <th>dropoff_at</th>\n",
       "      <th>passenger_count</th>\n",
       "      <th>trip_distance</th>\n",
       "      <th>rate_code_id</th>\n",
       "      <th>store_and_fwd_flag</th>\n",
       "      <th>pickup_location_id</th>\n",
       "      <th>dropoff_location_id</th>\n",
       "      <th>payment_type</th>\n",
       "      <th>fare_amount</th>\n",
       "      <th>extra</th>\n",
       "      <th>mta_tax</th>\n",
       "      <th>tip_amount</th>\n",
       "      <th>tolls_amount</th>\n",
       "      <th>improvement_surcharge</th>\n",
       "      <th>total_amount</th>\n",
       "      <th>congestion_surcharge</th>\n",
       "    </tr>\n",
       "  </thead>\n",
       "  <tbody>\n",
       "    <tr>\n",
       "      <th>0</th>\n",
       "      <td>1</td>\n",
       "      <td>2019-06-01 00:55:13</td>\n",
       "      <td>2019-06-01 00:56:17</td>\n",
       "      <td>1</td>\n",
       "      <td>0.00</td>\n",
       "      <td>1</td>\n",
       "      <td>N</td>\n",
       "      <td>145</td>\n",
       "      <td>145</td>\n",
       "      <td>2</td>\n",
       "      <td>3.0</td>\n",
       "      <td>0.5</td>\n",
       "      <td>0.5</td>\n",
       "      <td>0.00</td>\n",
       "      <td>0.0</td>\n",
       "      <td>0.3</td>\n",
       "      <td>4.300000</td>\n",
       "      <td>0.0</td>\n",
       "    </tr>\n",
       "    <tr>\n",
       "      <th>1</th>\n",
       "      <td>1</td>\n",
       "      <td>2019-06-01 00:06:31</td>\n",
       "      <td>2019-06-01 00:06:52</td>\n",
       "      <td>1</td>\n",
       "      <td>0.00</td>\n",
       "      <td>1</td>\n",
       "      <td>N</td>\n",
       "      <td>262</td>\n",
       "      <td>263</td>\n",
       "      <td>2</td>\n",
       "      <td>2.5</td>\n",
       "      <td>3.0</td>\n",
       "      <td>0.5</td>\n",
       "      <td>0.00</td>\n",
       "      <td>0.0</td>\n",
       "      <td>0.3</td>\n",
       "      <td>6.300000</td>\n",
       "      <td>2.5</td>\n",
       "    </tr>\n",
       "    <tr>\n",
       "      <th>2</th>\n",
       "      <td>1</td>\n",
       "      <td>2019-06-01 00:17:05</td>\n",
       "      <td>2019-06-01 00:36:38</td>\n",
       "      <td>1</td>\n",
       "      <td>4.40</td>\n",
       "      <td>1</td>\n",
       "      <td>N</td>\n",
       "      <td>74</td>\n",
       "      <td>7</td>\n",
       "      <td>2</td>\n",
       "      <td>17.5</td>\n",
       "      <td>0.5</td>\n",
       "      <td>0.5</td>\n",
       "      <td>0.00</td>\n",
       "      <td>0.0</td>\n",
       "      <td>0.3</td>\n",
       "      <td>18.799999</td>\n",
       "      <td>0.0</td>\n",
       "    </tr>\n",
       "    <tr>\n",
       "      <th>3</th>\n",
       "      <td>1</td>\n",
       "      <td>2019-06-01 00:59:02</td>\n",
       "      <td>2019-06-01 00:59:12</td>\n",
       "      <td>0</td>\n",
       "      <td>0.80</td>\n",
       "      <td>1</td>\n",
       "      <td>N</td>\n",
       "      <td>145</td>\n",
       "      <td>145</td>\n",
       "      <td>2</td>\n",
       "      <td>2.5</td>\n",
       "      <td>1.0</td>\n",
       "      <td>0.5</td>\n",
       "      <td>0.00</td>\n",
       "      <td>0.0</td>\n",
       "      <td>0.3</td>\n",
       "      <td>4.300000</td>\n",
       "      <td>0.0</td>\n",
       "    </tr>\n",
       "    <tr>\n",
       "      <th>4</th>\n",
       "      <td>1</td>\n",
       "      <td>2019-06-01 00:03:25</td>\n",
       "      <td>2019-06-01 00:15:42</td>\n",
       "      <td>1</td>\n",
       "      <td>1.70</td>\n",
       "      <td>1</td>\n",
       "      <td>N</td>\n",
       "      <td>113</td>\n",
       "      <td>148</td>\n",
       "      <td>1</td>\n",
       "      <td>9.5</td>\n",
       "      <td>3.0</td>\n",
       "      <td>0.5</td>\n",
       "      <td>2.65</td>\n",
       "      <td>0.0</td>\n",
       "      <td>0.3</td>\n",
       "      <td>15.950000</td>\n",
       "      <td>2.5</td>\n",
       "    </tr>\n",
       "    <tr>\n",
       "      <th>...</th>\n",
       "      <td>...</td>\n",
       "      <td>...</td>\n",
       "      <td>...</td>\n",
       "      <td>...</td>\n",
       "      <td>...</td>\n",
       "      <td>...</td>\n",
       "      <td>...</td>\n",
       "      <td>...</td>\n",
       "      <td>...</td>\n",
       "      <td>...</td>\n",
       "      <td>...</td>\n",
       "      <td>...</td>\n",
       "      <td>...</td>\n",
       "      <td>...</td>\n",
       "      <td>...</td>\n",
       "      <td>...</td>\n",
       "      <td>...</td>\n",
       "      <td>...</td>\n",
       "    </tr>\n",
       "    <tr>\n",
       "      <th>6941019</th>\n",
       "      <td>1</td>\n",
       "      <td>2019-06-30 23:23:03</td>\n",
       "      <td>2019-06-30 23:39:48</td>\n",
       "      <td>1</td>\n",
       "      <td>0.90</td>\n",
       "      <td>1</td>\n",
       "      <td>N</td>\n",
       "      <td>68</td>\n",
       "      <td>158</td>\n",
       "      <td>1</td>\n",
       "      <td>11.0</td>\n",
       "      <td>3.0</td>\n",
       "      <td>0.5</td>\n",
       "      <td>2.00</td>\n",
       "      <td>0.0</td>\n",
       "      <td>0.3</td>\n",
       "      <td>16.799999</td>\n",
       "      <td>2.5</td>\n",
       "    </tr>\n",
       "    <tr>\n",
       "      <th>6941020</th>\n",
       "      <td>1</td>\n",
       "      <td>2019-06-30 23:50:22</td>\n",
       "      <td>2019-06-30 23:57:01</td>\n",
       "      <td>1</td>\n",
       "      <td>0.50</td>\n",
       "      <td>1</td>\n",
       "      <td>N</td>\n",
       "      <td>246</td>\n",
       "      <td>90</td>\n",
       "      <td>2</td>\n",
       "      <td>6.0</td>\n",
       "      <td>3.0</td>\n",
       "      <td>0.5</td>\n",
       "      <td>0.00</td>\n",
       "      <td>0.0</td>\n",
       "      <td>0.3</td>\n",
       "      <td>9.800000</td>\n",
       "      <td>2.5</td>\n",
       "    </tr>\n",
       "    <tr>\n",
       "      <th>6941021</th>\n",
       "      <td>1</td>\n",
       "      <td>2019-06-30 23:58:32</td>\n",
       "      <td>2019-07-01 00:00:42</td>\n",
       "      <td>1</td>\n",
       "      <td>0.20</td>\n",
       "      <td>1</td>\n",
       "      <td>N</td>\n",
       "      <td>90</td>\n",
       "      <td>186</td>\n",
       "      <td>1</td>\n",
       "      <td>3.5</td>\n",
       "      <td>3.0</td>\n",
       "      <td>0.5</td>\n",
       "      <td>1.45</td>\n",
       "      <td>0.0</td>\n",
       "      <td>0.3</td>\n",
       "      <td>8.750000</td>\n",
       "      <td>2.5</td>\n",
       "    </tr>\n",
       "    <tr>\n",
       "      <th>6941022</th>\n",
       "      <td>2</td>\n",
       "      <td>2019-06-30 23:23:10</td>\n",
       "      <td>2019-06-30 23:30:45</td>\n",
       "      <td>1</td>\n",
       "      <td>1.38</td>\n",
       "      <td>1</td>\n",
       "      <td>N</td>\n",
       "      <td>140</td>\n",
       "      <td>163</td>\n",
       "      <td>1</td>\n",
       "      <td>7.5</td>\n",
       "      <td>0.5</td>\n",
       "      <td>0.5</td>\n",
       "      <td>2.26</td>\n",
       "      <td>0.0</td>\n",
       "      <td>0.3</td>\n",
       "      <td>13.560000</td>\n",
       "      <td>2.5</td>\n",
       "    </tr>\n",
       "    <tr>\n",
       "      <th>6941023</th>\n",
       "      <td>2</td>\n",
       "      <td>2019-06-30 23:39:13</td>\n",
       "      <td>2019-06-30 23:44:56</td>\n",
       "      <td>2</td>\n",
       "      <td>1.77</td>\n",
       "      <td>1</td>\n",
       "      <td>N</td>\n",
       "      <td>142</td>\n",
       "      <td>151</td>\n",
       "      <td>1</td>\n",
       "      <td>7.0</td>\n",
       "      <td>0.5</td>\n",
       "      <td>0.5</td>\n",
       "      <td>1.00</td>\n",
       "      <td>0.0</td>\n",
       "      <td>0.3</td>\n",
       "      <td>11.800000</td>\n",
       "      <td>2.5</td>\n",
       "    </tr>\n",
       "  </tbody>\n",
       "</table>\n",
       "<p>6941024 rows × 18 columns</p>\n",
       "</div>"
      ],
      "text/plain": [
       "        vendor_id           pickup_at          dropoff_at  passenger_count  \\\n",
       "0               1 2019-06-01 00:55:13 2019-06-01 00:56:17                1   \n",
       "1               1 2019-06-01 00:06:31 2019-06-01 00:06:52                1   \n",
       "2               1 2019-06-01 00:17:05 2019-06-01 00:36:38                1   \n",
       "3               1 2019-06-01 00:59:02 2019-06-01 00:59:12                0   \n",
       "4               1 2019-06-01 00:03:25 2019-06-01 00:15:42                1   \n",
       "...           ...                 ...                 ...              ...   \n",
       "6941019         1 2019-06-30 23:23:03 2019-06-30 23:39:48                1   \n",
       "6941020         1 2019-06-30 23:50:22 2019-06-30 23:57:01                1   \n",
       "6941021         1 2019-06-30 23:58:32 2019-07-01 00:00:42                1   \n",
       "6941022         2 2019-06-30 23:23:10 2019-06-30 23:30:45                1   \n",
       "6941023         2 2019-06-30 23:39:13 2019-06-30 23:44:56                2   \n",
       "\n",
       "         trip_distance rate_code_id store_and_fwd_flag  pickup_location_id  \\\n",
       "0                 0.00            1                  N                 145   \n",
       "1                 0.00            1                  N                 262   \n",
       "2                 4.40            1                  N                  74   \n",
       "3                 0.80            1                  N                 145   \n",
       "4                 1.70            1                  N                 113   \n",
       "...                ...          ...                ...                 ...   \n",
       "6941019           0.90            1                  N                  68   \n",
       "6941020           0.50            1                  N                 246   \n",
       "6941021           0.20            1                  N                  90   \n",
       "6941022           1.38            1                  N                 140   \n",
       "6941023           1.77            1                  N                 142   \n",
       "\n",
       "         dropoff_location_id payment_type  fare_amount  extra  mta_tax  \\\n",
       "0                        145            2          3.0    0.5      0.5   \n",
       "1                        263            2          2.5    3.0      0.5   \n",
       "2                          7            2         17.5    0.5      0.5   \n",
       "3                        145            2          2.5    1.0      0.5   \n",
       "4                        148            1          9.5    3.0      0.5   \n",
       "...                      ...          ...          ...    ...      ...   \n",
       "6941019                  158            1         11.0    3.0      0.5   \n",
       "6941020                   90            2          6.0    3.0      0.5   \n",
       "6941021                  186            1          3.5    3.0      0.5   \n",
       "6941022                  163            1          7.5    0.5      0.5   \n",
       "6941023                  151            1          7.0    0.5      0.5   \n",
       "\n",
       "         tip_amount  tolls_amount  improvement_surcharge  total_amount  \\\n",
       "0              0.00           0.0                    0.3      4.300000   \n",
       "1              0.00           0.0                    0.3      6.300000   \n",
       "2              0.00           0.0                    0.3     18.799999   \n",
       "3              0.00           0.0                    0.3      4.300000   \n",
       "4              2.65           0.0                    0.3     15.950000   \n",
       "...             ...           ...                    ...           ...   \n",
       "6941019        2.00           0.0                    0.3     16.799999   \n",
       "6941020        0.00           0.0                    0.3      9.800000   \n",
       "6941021        1.45           0.0                    0.3      8.750000   \n",
       "6941022        2.26           0.0                    0.3     13.560000   \n",
       "6941023        1.00           0.0                    0.3     11.800000   \n",
       "\n",
       "         congestion_surcharge  \n",
       "0                         0.0  \n",
       "1                         2.5  \n",
       "2                         0.0  \n",
       "3                         0.0  \n",
       "4                         2.5  \n",
       "...                       ...  \n",
       "6941019                   2.5  \n",
       "6941020                   2.5  \n",
       "6941021                   2.5  \n",
       "6941022                   2.5  \n",
       "6941023                   2.5  \n",
       "\n",
       "[6941024 rows x 18 columns]"
      ]
     },
     "execution_count": 3,
     "metadata": {},
     "output_type": "execute_result"
    }
   ],
   "source": [
    "df=pd.read_parquet('data.parquet', engine='pyarrow')\n",
    "df"
   ]
  },
  {
   "cell_type": "markdown",
   "id": "valued-numbers",
   "metadata": {},
   "source": [
    "## Transform"
   ]
  },
  {
   "cell_type": "code",
   "execution_count": 4,
   "id": "metallic-motion",
   "metadata": {},
   "outputs": [
    {
     "data": {
      "text/plain": [
       "vendor_id                        object\n",
       "pickup_at                datetime64[ns]\n",
       "dropoff_at               datetime64[ns]\n",
       "passenger_count                    int8\n",
       "trip_distance                   float32\n",
       "rate_code_id                     object\n",
       "store_and_fwd_flag               object\n",
       "pickup_location_id                int32\n",
       "dropoff_location_id               int32\n",
       "payment_type                     object\n",
       "fare_amount                     float32\n",
       "extra                           float32\n",
       "mta_tax                         float32\n",
       "tip_amount                      float32\n",
       "tolls_amount                    float32\n",
       "improvement_surcharge           float32\n",
       "total_amount                    float32\n",
       "congestion_surcharge            float32\n",
       "dtype: object"
      ]
     },
     "execution_count": 4,
     "metadata": {},
     "output_type": "execute_result"
    }
   ],
   "source": [
    "df.dtypes  "
   ]
  },
  {
   "cell_type": "code",
   "execution_count": 5,
   "id": "naval-clinton",
   "metadata": {
    "scrolled": true
   },
   "outputs": [
    {
     "data": {
      "text/plain": [
       "vendor_id                402579392\n",
       "pickup_at                 55528192\n",
       "dropoff_at                55528192\n",
       "passenger_count            6941024\n",
       "trip_distance             27764096\n",
       "rate_code_id             402579697\n",
       "store_and_fwd_flag       402579392\n",
       "pickup_location_id        27764096\n",
       "dropoff_location_id       27764096\n",
       "payment_type             402579392\n",
       "fare_amount               27764096\n",
       "extra                     27764096\n",
       "mta_tax                   27764096\n",
       "tip_amount                27764096\n",
       "tolls_amount              27764096\n",
       "improvement_surcharge     27764096\n",
       "total_amount              27764096\n",
       "congestion_surcharge      27764096\n",
       "dtype: int64"
      ]
     },
     "execution_count": 5,
     "metadata": {},
     "output_type": "execute_result"
    }
   ],
   "source": [
    "df.memory_usage(index=False, deep=True)"
   ]
  },
  {
   "cell_type": "code",
   "execution_count": 6,
   "id": "chicken-myrtle",
   "metadata": {},
   "outputs": [
    {
     "data": {
      "text/plain": [
       "2033720337"
      ]
     },
     "execution_count": 6,
     "metadata": {},
     "output_type": "execute_result"
    }
   ],
   "source": [
    "df.memory_usage(index=False, deep=True).sum()"
   ]
  },
  {
   "cell_type": "code",
   "execution_count": 7,
   "id": "local-girlfriend",
   "metadata": {
    "scrolled": true
   },
   "outputs": [
    {
     "data": {
      "text/plain": [
       "vendor_id                                  4\n",
       "pickup_at                2019-10-30 10:20:13\n",
       "dropoff_at               2019-10-30 10:30:26\n",
       "passenger_count                            9\n",
       "trip_distance                    45977.21875\n",
       "rate_code_id                              99\n",
       "store_and_fwd_flag                         Y\n",
       "pickup_location_id                       265\n",
       "dropoff_location_id                      265\n",
       "payment_type                               4\n",
       "fare_amount                         346950.0\n",
       "extra                              84.760002\n",
       "mta_tax                           212.419998\n",
       "tip_amount                       1624.640015\n",
       "tolls_amount                           823.0\n",
       "improvement_surcharge                    0.3\n",
       "total_amount                     347035.0625\n",
       "congestion_surcharge                    2.75\n",
       "dtype: object"
      ]
     },
     "execution_count": 7,
     "metadata": {},
     "output_type": "execute_result"
    }
   ],
   "source": [
    "df.max() "
   ]
  },
  {
   "cell_type": "code",
   "execution_count": 8,
   "id": "surgical-curve",
   "metadata": {},
   "outputs": [],
   "source": [
    "df[\"vendor_id\"] = df.vendor_id.astype(dtype=\"int8\")\n",
    "df[\"rate_code_id\"] = df.rate_code_id.astype(dtype=\"int8\")\n",
    "df[\"pickup_location_id\"] = df.pickup_location_id.astype(dtype=\"int8\")\n",
    "df[\"dropoff_location_id\"] = df.dropoff_location_id.astype(dtype=\"int8\")\n",
    "df[\"store_and_fwd_flag\"] = df.store_and_fwd_flag.astype(dtype=\"string\")\n",
    "df[\"payment_type\"] = df.payment_type.astype(dtype=\"int8\")\n",
    "df[\"extra\"] = df.extra.astype(dtype=\"float16\")\n",
    "df[\"fare_amount\"] = df.fare_amount.astype(dtype=\"float16\")\n",
    "df[\"mta_tax\"] = df.mta_tax.astype(dtype=\"float16\")\n",
    "df[\"tip_amount\"] = df.tip_amount.astype(dtype=\"float16\")\n",
    "df[\"tolls_amount\"] = df.tolls_amount.astype(dtype=\"float16\")\n",
    "df[\"improvement_surcharge\"] = df.improvement_surcharge.astype(dtype=\"float16\")\n",
    "df[\"congestion_surcharge\"] = df.congestion_surcharge.astype(dtype=\"float16\")"
   ]
  },
  {
   "cell_type": "code",
   "execution_count": 9,
   "id": "plain-mainstream",
   "metadata": {},
   "outputs": [
    {
     "data": {
      "text/plain": [
       "vendor_id                          int8\n",
       "pickup_at                datetime64[ns]\n",
       "dropoff_at               datetime64[ns]\n",
       "passenger_count                    int8\n",
       "trip_distance                   float32\n",
       "rate_code_id                       int8\n",
       "store_and_fwd_flag               string\n",
       "pickup_location_id                 int8\n",
       "dropoff_location_id                int8\n",
       "payment_type                       int8\n",
       "fare_amount                     float16\n",
       "extra                           float16\n",
       "mta_tax                         float16\n",
       "tip_amount                      float16\n",
       "tolls_amount                    float16\n",
       "improvement_surcharge           float16\n",
       "total_amount                    float32\n",
       "congestion_surcharge            float16\n",
       "dtype: object"
      ]
     },
     "execution_count": 9,
     "metadata": {},
     "output_type": "execute_result"
    }
   ],
   "source": [
    "df.dtypes"
   ]
  },
  {
   "cell_type": "code",
   "execution_count": 10,
   "id": "built-briefing",
   "metadata": {},
   "outputs": [
    {
     "data": {
      "text/plain": [
       "707984448"
      ]
     },
     "execution_count": 10,
     "metadata": {},
     "output_type": "execute_result"
    }
   ],
   "source": [
    "df.memory_usage(index=False, deep=True).sum()"
   ]
  },
  {
   "cell_type": "markdown",
   "id": "early-analyst",
   "metadata": {},
   "source": [
    "## Load"
   ]
  },
  {
   "cell_type": "code",
   "execution_count": 11,
   "id": "opposed-closure",
   "metadata": {},
   "outputs": [],
   "source": [
    "from sqlalchemy import create_engine\n",
    "\n",
    "source = create_engine('mysql+mysqlconnector://test:test123@db/test')"
   ]
  },
  {
   "cell_type": "code",
   "execution_count": 12,
   "id": "prepared-coast",
   "metadata": {},
   "outputs": [],
   "source": [
    "# df.to_sql('data', con=source, schema='test', if_exists='fail',index=False,chunksize=10000)"
   ]
  },
  {
   "cell_type": "code",
   "execution_count": 14,
   "id": "lucky-julian",
   "metadata": {},
   "outputs": [
    {
     "name": "stdout",
     "output_type": "stream",
     "text": [
      "\n",
      "CREATE TABLE `test.data` (\n",
      "\t`index` BIGINT, \n",
      "\tvendor_id BIGINT, \n",
      "\tpickup_at DATETIME, \n",
      "\tdropoff_at DATETIME, \n",
      "\tpassenger_count BIGINT, \n",
      "\ttrip_distance FLOAT(23), \n",
      "\trate_code_id BIGINT, \n",
      "\tstore_and_fwd_flag TEXT, \n",
      "\tpickup_location_id BIGINT, \n",
      "\tdropoff_location_id BIGINT, \n",
      "\tpayment_type BIGINT, \n",
      "\tfare_amount FLOAT(53), \n",
      "\textra FLOAT(53), \n",
      "\tmta_tax FLOAT(53), \n",
      "\ttip_amount FLOAT(53), \n",
      "\ttolls_amount FLOAT(53), \n",
      "\timprovement_surcharge FLOAT(53), \n",
      "\ttotal_amount FLOAT(23), \n",
      "\tcongestion_surcharge FLOAT(53)\n",
      ")\n",
      "\n",
      "\n"
     ]
    }
   ],
   "source": [
    "print(pd.io.sql.get_schema(df.reset_index(), 'test.data', con=source))"
   ]
  }
 ],
 "metadata": {
  "kernelspec": {
   "display_name": "Python 3",
   "language": "python",
   "name": "python3"
  },
  "language_info": {
   "codemirror_mode": {
    "name": "ipython",
    "version": 3
   },
   "file_extension": ".py",
   "mimetype": "text/x-python",
   "name": "python",
   "nbconvert_exporter": "python",
   "pygments_lexer": "ipython3",
   "version": "3.8.6"
  }
 },
 "nbformat": 4,
 "nbformat_minor": 5
}
